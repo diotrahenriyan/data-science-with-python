{
 "nbformat": 4,
 "nbformat_minor": 2,
 "metadata": {
  "language_info": {
   "name": "python",
   "codemirror_mode": {
    "name": "ipython",
    "version": 3
   },
   "version": "3.7.6-final"
  },
  "orig_nbformat": 2,
  "file_extension": ".py",
  "mimetype": "text/x-python",
  "name": "python",
  "npconvert_exporter": "python",
  "pygments_lexer": "ipython3",
  "version": 3,
  "kernelspec": {
   "name": "python37764bitpython3condacd33ffb6eda44dc4b926af55cffeb75c",
   "display_name": "Python 3.7.7 64-bit ('python_3': conda)"
  }
 },
 "cells": [
  {
   "cell_type": "markdown",
   "metadata": {},
   "source": [
    "# Numpy\n",
    "\n",
    "## Mengingat list\n",
    "\n",
    "- <i>powerfull</i>\n",
    "- Koleksi dari nilai\n",
    "- Menampung berbagai macam tipe data\n",
    "- Mengganti, menambah, mengurangi\n",
    "- Kebutuhan untuk Data Science: Operasi Matematika antar list, <i>speed</i>"
   ]
  },
  {
   "cell_type": "code",
   "execution_count": 17,
   "metadata": {},
   "outputs": [],
   "source": [
    "tinggi = [1.73, 1.68, 1.71, 1.89, 1.69]"
   ]
  },
  {
   "cell_type": "code",
   "execution_count": 18,
   "metadata": {},
   "outputs": [
    {
     "output_type": "execute_result",
     "data": {
      "text/plain": "[1.73, 1.68, 1.71, 1.89, 1.69]"
     },
     "metadata": {},
     "execution_count": 18
    }
   ],
   "source": [
    "tinggi"
   ]
  },
  {
   "cell_type": "code",
   "execution_count": 19,
   "metadata": {},
   "outputs": [],
   "source": [
    "berat = [65.4, 59.2, 63.6, 88.4, 68.7]"
   ]
  },
  {
   "cell_type": "code",
   "execution_count": 7,
   "metadata": {},
   "outputs": [],
   "source": [
    "# berat / tinggi ** 2 --> error"
   ]
  },
  {
   "cell_type": "markdown",
   "metadata": {},
   "source": [
    "## Solusi? Numpy, horray\n",
    "\n",
    "- Python Numerik\n",
    "- Alternatif dari list python: NumPy Array\n",
    "- Kalkulasi semua elemen array\n",
    "- Mudah dan cepat"
   ]
  },
  {
   "cell_type": "code",
   "execution_count": 20,
   "metadata": {},
   "outputs": [
    {
     "output_type": "execute_result",
     "data": {
      "text/plain": "array([1.73, 1.68, 1.71, 1.89, 1.69])"
     },
     "metadata": {},
     "execution_count": 20
    }
   ],
   "source": [
    "import numpy as np\n",
    "np_tinggi = np.array(tinggi)\n",
    "np_tinggi"
   ]
  },
  {
   "cell_type": "code",
   "execution_count": 21,
   "metadata": {},
   "outputs": [
    {
     "output_type": "execute_result",
     "data": {
      "text/plain": "array([65.4, 59.2, 63.6, 88.4, 68.7])"
     },
     "metadata": {},
     "execution_count": 21
    }
   ],
   "source": [
    "np_berat = np.array(berat)\n",
    "np_berat"
   ]
  },
  {
   "cell_type": "code",
   "execution_count": 22,
   "metadata": {},
   "outputs": [
    {
     "output_type": "execute_result",
     "data": {
      "text/plain": "array([21.85171573, 20.97505669, 21.75028214, 24.7473475 , 24.05377963])"
     },
     "metadata": {},
     "execution_count": 22
    }
   ],
   "source": [
    "bmi = np_berat / np_tinggi ** 2\n",
    "bmi"
   ]
  },
  {
   "cell_type": "markdown",
   "metadata": {},
   "source": [
    "## Numpy remarks"
   ]
  },
  {
   "cell_type": "code",
   "execution_count": 24,
   "metadata": {},
   "outputs": [
    {
     "output_type": "execute_result",
     "data": {
      "text/plain": "array(['1.0', 'is', 'True'], dtype='<U32')"
     },
     "metadata": {},
     "execution_count": 24
    }
   ],
   "source": [
    "np.array([1.0, 'is', True]) # Numpy hanya dapat menampung satu tipe"
   ]
  },
  {
   "cell_type": "code",
   "execution_count": 26,
   "metadata": {},
   "outputs": [],
   "source": [
    "python_list = [1, 2, 3]\n",
    "numpy_array = np.array([1, 2, 3])"
   ]
  },
  {
   "cell_type": "code",
   "execution_count": 27,
   "metadata": {},
   "outputs": [
    {
     "output_type": "execute_result",
     "data": {
      "text/plain": "[1, 2, 3, 1, 2, 3]"
     },
     "metadata": {},
     "execution_count": 27
    }
   ],
   "source": [
    "python_list + python_list"
   ]
  },
  {
   "cell_type": "code",
   "execution_count": 28,
   "metadata": {},
   "outputs": [
    {
     "output_type": "execute_result",
     "data": {
      "text/plain": "array([2, 4, 6])"
     },
     "metadata": {},
     "execution_count": 28
    }
   ],
   "source": [
    "numpy_array + numpy_array"
   ]
  },
  {
   "cell_type": "markdown",
   "metadata": {},
   "source": [
    "## Numpy subsetting"
   ]
  },
  {
   "cell_type": "code",
   "execution_count": 30,
   "metadata": {},
   "outputs": [
    {
     "output_type": "execute_result",
     "data": {
      "text/plain": "array([21.85171573, 20.97505669, 21.75028214, 24.7473475 , 24.05377963])"
     },
     "metadata": {},
     "execution_count": 30
    }
   ],
   "source": [
    "bmi"
   ]
  },
  {
   "cell_type": "code",
   "execution_count": 31,
   "metadata": {},
   "outputs": [
    {
     "output_type": "execute_result",
     "data": {
      "text/plain": "20.97505668934241"
     },
     "metadata": {},
     "execution_count": 31
    }
   ],
   "source": [
    "bmi[1]"
   ]
  },
  {
   "cell_type": "code",
   "execution_count": 36,
   "metadata": {},
   "outputs": [
    {
     "output_type": "execute_result",
     "data": {
      "text/plain": "array([False, False, False,  True,  True])"
     },
     "metadata": {},
     "execution_count": 36
    }
   ],
   "source": [
    "bmi > 23"
   ]
  },
  {
   "cell_type": "code",
   "execution_count": 33,
   "metadata": {},
   "outputs": [
    {
     "output_type": "execute_result",
     "data": {
      "text/plain": "array([24.7473475 , 24.05377963])"
     },
     "metadata": {},
     "execution_count": 33
    }
   ],
   "source": [
    "bmi[bmi > 23]"
   ]
  },
  {
   "cell_type": "markdown",
   "metadata": {},
   "source": [
    "## 2D Numpy arrays"
   ]
  },
  {
   "cell_type": "code",
   "execution_count": 38,
   "metadata": {},
   "outputs": [],
   "source": [
    "import numpy as np\n",
    "np_tinggi = np.array([1.73, 1.68, 1.71, 1.89, 1.69])\n",
    "np_berat = np.array([65.4, 59.2, 63.6, 88.4, 68.7])"
   ]
  },
  {
   "cell_type": "code",
   "execution_count": 39,
   "metadata": {},
   "outputs": [
    {
     "output_type": "execute_result",
     "data": {
      "text/plain": "numpy.ndarray"
     },
     "metadata": {},
     "execution_count": 39
    }
   ],
   "source": [
    "type(np_tinggi)"
   ]
  },
  {
   "cell_type": "code",
   "execution_count": 40,
   "metadata": {},
   "outputs": [
    {
     "output_type": "execute_result",
     "data": {
      "text/plain": "numpy.ndarray"
     },
     "metadata": {},
     "execution_count": 40
    }
   ],
   "source": [
    "type(np_berat)"
   ]
  },
  {
   "cell_type": "code",
   "execution_count": 52,
   "metadata": {},
   "outputs": [],
   "source": [
    "np_2d = np.array([[1.73, 1.68, 1.71, 1.89, 1.69], [65.4, 59.2, 63.6, 88.4, 68.7]])"
   ]
  },
  {
   "cell_type": "code",
   "execution_count": 44,
   "metadata": {},
   "outputs": [
    {
     "output_type": "execute_result",
     "data": {
      "text/plain": "array([[ 1.73,  1.68,  1.71,  1.89,  1.69],\n       [65.4 , 59.2 , 63.6 , 88.4 , 68.7 ]])"
     },
     "metadata": {},
     "execution_count": 44
    }
   ],
   "source": [
    "np_2d"
   ]
  },
  {
   "cell_type": "code",
   "execution_count": 45,
   "metadata": {},
   "outputs": [
    {
     "output_type": "execute_result",
     "data": {
      "text/plain": "(2, 5)"
     },
     "metadata": {},
     "execution_count": 45
    }
   ],
   "source": [
    "np_2d.shape"
   ]
  },
  {
   "cell_type": "code",
   "execution_count": 47,
   "metadata": {},
   "outputs": [],
   "source": [
    "# np_2d = np.array([[1.73, 1.68, 1.71, 1.89, 1.69], [ 65.4,  59.2,  63.6,  88.4,  \"68.7\"]])"
   ]
  },
  {
   "cell_type": "code",
   "execution_count": 49,
   "metadata": {},
   "outputs": [
    {
     "output_type": "execute_result",
     "data": {
      "text/plain": "array([['1.73', '1.68', '1.71', '1.89', '1.69'],\n       ['65.4', '59.2', '63.6', '88.4', '68.7']], dtype='<U32')"
     },
     "metadata": {},
     "execution_count": 49
    }
   ],
   "source": [
    "np_2d # Ingat hanya bisa satu tipe"
   ]
  },
  {
   "cell_type": "markdown",
   "metadata": {},
   "source": [
    "## Nubsetting Numpy 2D"
   ]
  },
  {
   "cell_type": "code",
   "execution_count": 53,
   "metadata": {},
   "outputs": [
    {
     "output_type": "execute_result",
     "data": {
      "text/plain": "array([1.73, 1.68, 1.71, 1.89, 1.69])"
     },
     "metadata": {},
     "execution_count": 53
    }
   ],
   "source": [
    "np_2d[0]"
   ]
  },
  {
   "cell_type": "code",
   "execution_count": 54,
   "metadata": {},
   "outputs": [
    {
     "output_type": "execute_result",
     "data": {
      "text/plain": "1.71"
     },
     "metadata": {},
     "execution_count": 54
    }
   ],
   "source": [
    "np_2d[0][2]"
   ]
  },
  {
   "cell_type": "code",
   "execution_count": 55,
   "metadata": {},
   "outputs": [
    {
     "output_type": "execute_result",
     "data": {
      "text/plain": "1.71"
     },
     "metadata": {},
     "execution_count": 55
    }
   ],
   "source": [
    "np_2d[0, 2]"
   ]
  },
  {
   "cell_type": "code",
   "execution_count": 56,
   "metadata": {},
   "outputs": [
    {
     "output_type": "execute_result",
     "data": {
      "text/plain": "array([[ 1.68,  1.71],\n       [59.2 , 63.6 ]])"
     },
     "metadata": {},
     "execution_count": 56
    }
   ],
   "source": [
    "np_2d[:, 1 : 3]"
   ]
  },
  {
   "cell_type": "code",
   "execution_count": 57,
   "metadata": {},
   "outputs": [
    {
     "output_type": "execute_result",
     "data": {
      "text/plain": "array([65.4, 59.2, 63.6, 88.4, 68.7])"
     },
     "metadata": {},
     "execution_count": 57
    }
   ],
   "source": [
    "np_2d[1, :]"
   ]
  },
  {
   "cell_type": "markdown",
   "metadata": {},
   "source": [
    "## NumPy dan Statistika Dasar"
   ]
  },
  {
   "cell_type": "code",
   "execution_count": 72,
   "metadata": {},
   "outputs": [],
   "source": [
    "tinggi = np.round(np.random.normal(1.75, 0.20, 5000), 2)\n",
    "berat = np.round(np.random.normal(60.32, 15, 5000), 2)\n",
    "\n",
    "# np.random.normal(distribution_mean, distribution_standard_deviation, jumlah_sample)"
   ]
  },
  {
   "cell_type": "code",
   "execution_count": 73,
   "metadata": {},
   "outputs": [],
   "source": [
    "np_city = np.column_stack((tinggi, berat))"
   ]
  },
  {
   "cell_type": "code",
   "execution_count": 75,
   "metadata": {},
   "outputs": [
    {
     "output_type": "execute_result",
     "data": {
      "text/plain": "array([[ 1.57, 21.51],\n       [ 1.36, 53.03],\n       [ 1.79, 49.78],\n       ...,\n       [ 1.86, 61.39],\n       [ 1.59, 36.65],\n       [ 1.8 , 52.12]])"
     },
     "metadata": {},
     "execution_count": 75
    }
   ],
   "source": [
    "np_city"
   ]
  },
  {
   "cell_type": "code",
   "execution_count": 76,
   "metadata": {},
   "outputs": [
    {
     "output_type": "execute_result",
     "data": {
      "text/plain": "1.746072"
     },
     "metadata": {},
     "execution_count": 76
    }
   ],
   "source": [
    "np.mean(np_city[:, 0])"
   ]
  },
  {
   "cell_type": "code",
   "execution_count": 77,
   "metadata": {},
   "outputs": [
    {
     "output_type": "execute_result",
     "data": {
      "text/plain": "array([[1.        , 0.00592295],\n       [0.00592295, 1.        ]])"
     },
     "metadata": {},
     "execution_count": 77
    }
   ],
   "source": [
    "np.corrcoef(np_city[:, 0], np_city[:, 1])"
   ]
  },
  {
   "cell_type": "code",
   "execution_count": 78,
   "metadata": {},
   "outputs": [
    {
     "output_type": "execute_result",
     "data": {
      "text/plain": "0.20128380664126957"
     },
     "metadata": {},
     "execution_count": 78
    }
   ],
   "source": [
    "np.std(np_city[:, 0])"
   ]
  },
  {
   "cell_type": "code",
   "execution_count": null,
   "metadata": {},
   "outputs": [],
   "source": []
  }
 ]
}