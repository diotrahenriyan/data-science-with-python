{
 "nbformat": 4,
 "nbformat_minor": 2,
 "metadata": {
  "language_info": {
   "name": "python",
   "codemirror_mode": {
    "name": "ipython",
    "version": 3
   },
   "version": "3.7.7-final"
  },
  "orig_nbformat": 2,
  "file_extension": ".py",
  "mimetype": "text/x-python",
  "name": "python",
  "npconvert_exporter": "python",
  "pygments_lexer": "ipython3",
  "version": 3,
  "kernelspec": {
   "name": "python37764bitpython3condacd33ffb6eda44dc4b926af55cffeb75c",
   "display_name": "Python 3.7.7 64-bit ('python_3': conda)"
  }
 },
 "cells": [
  {
   "cell_type": "markdown",
   "metadata": {},
   "source": [
    "# List Python"
   ]
  },
  {
   "cell_type": "markdown",
   "metadata": {},
   "source": [
    "## Tipe Data Python\n",
    "- float - bilangan real\n",
    "- int - bilangan bulat\n",
    "- str - string, text\n",
    "- bool - true, false"
   ]
  },
  {
   "cell_type": "code",
   "execution_count": 2,
   "metadata": {},
   "outputs": [],
   "source": [
    "tinggi = 1.73\n",
    "apakah_tinggi = True # Hanya menyimpan satu nilai dalam variable"
   ]
  },
  {
   "cell_type": "markdown",
   "metadata": {},
   "source": [
    "## Permasalahan\n",
    "- Data science: banyak Data\n",
    "- Misalkan ada beberapa data tinggi"
   ]
  },
  {
   "cell_type": "code",
   "execution_count": 3,
   "metadata": {},
   "outputs": [],
   "source": [
    "tinggi_1 = 1.34\n",
    "tinggi_2 = 1.69\n",
    "tinggi_3 = 1.82\n",
    "tinggi_4 = 1.99"
   ]
  },
  {
   "cell_type": "markdown",
   "metadata": {},
   "source": [
    "Sangat tidak efisien"
   ]
  },
  {
   "cell_type": "markdown",
   "metadata": {},
   "source": [
    "## List Python a, b, c"
   ]
  },
  {
   "cell_type": "code",
   "execution_count": 4,
   "metadata": {},
   "outputs": [
    {
     "output_type": "execute_result",
     "data": {
      "text/plain": "[1.73, 1.68, 1.71, 1.89]"
     },
     "metadata": {},
     "execution_count": 4
    }
   ],
   "source": [
    "[1.73, 1.68, 1.71, 1.89]"
   ]
  },
  {
   "cell_type": "code",
   "execution_count": 5,
   "metadata": {},
   "outputs": [
    {
     "output_type": "execute_result",
     "data": {
      "text/plain": "[1.73, 1.68, 1.71, 1.89]"
     },
     "metadata": {},
     "execution_count": 5
    }
   ],
   "source": [
    "keluarga = [1.73, 1.68, 1.71, 1.89]\n",
    "keluarga"
   ]
  },
  {
   "cell_type": "markdown",
   "metadata": {},
   "source": [
    "- Menyimpan koleksi dari sebuah nilai\n",
    "- Menyimpan segala jenis tipe data\n",
    "- Menyimpan tipe data yang berbeda dalam satu list"
   ]
  },
  {
   "cell_type": "code",
   "execution_count": 7,
   "metadata": {},
   "outputs": [
    {
     "output_type": "execute_result",
     "data": {
      "text/plain": "['kakak', 1.73, 'adik', 1.68, 'ibu', 1.71, 'ayah', 1.89]"
     },
     "metadata": {},
     "execution_count": 7
    }
   ],
   "source": [
    "keluarga = ['kakak', 1.73, 'adik', 1.68, 'ibu', 1.71, 'ayah', 1.89]\n",
    "\n",
    "keluarga"
   ]
  },
  {
   "cell_type": "code",
   "execution_count": 21,
   "metadata": {},
   "outputs": [
    {
     "output_type": "execute_result",
     "data": {
      "text/plain": "[['kakak', 1.73], ['adik', 1.68], ['ibu', 1.71], ['ayah', 1.89]]"
     },
     "metadata": {},
     "execution_count": 21
    }
   ],
   "source": [
    "keluarga_2 = [['kakak', 1.73], ['adik', 1.68], ['ibu', 1.71], ['ayah', 1.89]]\n",
    "\n",
    "keluarga_2"
   ]
  },
  {
   "cell_type": "code",
   "execution_count": 9,
   "metadata": {},
   "outputs": [
    {
     "output_type": "execute_result",
     "data": {
      "text/plain": "list"
     },
     "metadata": {},
     "execution_count": 9
    }
   ],
   "source": [
    "type(keluarga)"
   ]
  },
  {
   "cell_type": "code",
   "execution_count": 22,
   "metadata": {},
   "outputs": [
    {
     "output_type": "execute_result",
     "data": {
      "text/plain": "list"
     },
     "metadata": {},
     "execution_count": 22
    }
   ],
   "source": [
    "type(keluarga_2)"
   ]
  },
  {
   "cell_type": "markdown",
   "metadata": {},
   "source": [
    "## Subsetting List"
   ]
  },
  {
   "cell_type": "code",
   "execution_count": 12,
   "metadata": {},
   "outputs": [],
   "source": [
    "keluarga = ['kakak', 1.73, 'adik', 1.68, 'ibu', 1.71, 'ayah', 1.89]"
   ]
  },
  {
   "cell_type": "markdown",
   "metadata": {},
   "source": [
    "- Ingat index pada list berbasis 0\n",
    "- Sehingga 'kakak' memiliki index 0, '1.73' memiliki index 1 dan seterusnya"
   ]
  },
  {
   "cell_type": "code",
   "execution_count": 13,
   "metadata": {},
   "outputs": [
    {
     "output_type": "execute_result",
     "data": {
      "text/plain": "'adik'"
     },
     "metadata": {},
     "execution_count": 13
    }
   ],
   "source": [
    "keluarga[2]"
   ]
  },
  {
   "cell_type": "code",
   "execution_count": 14,
   "metadata": {},
   "outputs": [
    {
     "output_type": "execute_result",
     "data": {
      "text/plain": "1.71"
     },
     "metadata": {},
     "execution_count": 14
    }
   ],
   "source": [
    "keluarga[5]"
   ]
  },
  {
   "cell_type": "code",
   "execution_count": 15,
   "metadata": {},
   "outputs": [
    {
     "output_type": "execute_result",
     "data": {
      "text/plain": "1.89"
     },
     "metadata": {},
     "execution_count": 15
    }
   ],
   "source": [
    "keluarga[-1]"
   ]
  },
  {
   "cell_type": "code",
   "execution_count": 16,
   "metadata": {},
   "outputs": [
    {
     "output_type": "execute_result",
     "data": {
      "text/plain": "'ibu'"
     },
     "metadata": {},
     "execution_count": 16
    }
   ],
   "source": [
    "keluarga[-4]"
   ]
  },
  {
   "cell_type": "code",
   "execution_count": 23,
   "metadata": {},
   "outputs": [
    {
     "output_type": "execute_result",
     "data": {
      "text/plain": "'kakak'"
     },
     "metadata": {},
     "execution_count": 23
    }
   ],
   "source": [
    "keluarga_2[0][0]"
   ]
  },
  {
   "cell_type": "code",
   "execution_count": 24,
   "metadata": {},
   "outputs": [
    {
     "output_type": "execute_result",
     "data": {
      "text/plain": "1.73"
     },
     "metadata": {},
     "execution_count": 24
    }
   ],
   "source": [
    "keluarga_2[0][1]"
   ]
  },
  {
   "cell_type": "markdown",
   "metadata": {},
   "source": [
    "## Slicing List"
   ]
  },
  {
   "cell_type": "code",
   "execution_count": 25,
   "metadata": {},
   "outputs": [
    {
     "output_type": "execute_result",
     "data": {
      "text/plain": "['kakak', 1.73, 'adik', 1.68, 'ibu', 1.71, 'ayah', 1.89]"
     },
     "metadata": {},
     "execution_count": 25
    }
   ],
   "source": [
    "keluarga"
   ]
  },
  {
   "cell_type": "code",
   "execution_count": 26,
   "metadata": {},
   "outputs": [
    {
     "output_type": "execute_result",
     "data": {
      "text/plain": "[1.68, 'ibu']"
     },
     "metadata": {},
     "execution_count": 26
    }
   ],
   "source": [
    "keluarga[3:5]"
   ]
  },
  {
   "cell_type": "markdown",
   "metadata": {},
   "source": [
    "- start : end\n",
    "- start = inklusif\n",
    "- end = eksklusif"
   ]
  },
  {
   "cell_type": "code",
   "execution_count": 28,
   "metadata": {},
   "outputs": [
    {
     "output_type": "execute_result",
     "data": {
      "text/plain": "[1.73, 'adik', 1.68]"
     },
     "metadata": {},
     "execution_count": 28
    }
   ],
   "source": [
    "keluarga[1:4]"
   ]
  },
  {
   "cell_type": "code",
   "execution_count": 29,
   "metadata": {},
   "outputs": [
    {
     "output_type": "execute_result",
     "data": {
      "text/plain": "['kakak', 1.73, 'adik', 1.68]"
     },
     "metadata": {},
     "execution_count": 29
    }
   ],
   "source": [
    "keluarga[:4]"
   ]
  },
  {
   "cell_type": "code",
   "execution_count": 30,
   "metadata": {},
   "outputs": [
    {
     "output_type": "execute_result",
     "data": {
      "text/plain": "[1.71, 'ayah', 1.89]"
     },
     "metadata": {},
     "execution_count": 30
    }
   ],
   "source": [
    "keluarga[5:]"
   ]
  },
  {
   "cell_type": "code",
   "execution_count": 31,
   "metadata": {},
   "outputs": [
    {
     "output_type": "execute_result",
     "data": {
      "text/plain": "[['kakak', 1.73], ['adik', 1.68]]"
     },
     "metadata": {},
     "execution_count": 31
    }
   ],
   "source": [
    "keluarga_2[0:2]"
   ]
  },
  {
   "cell_type": "markdown",
   "metadata": {},
   "source": [
    "## Memanipulasi List"
   ]
  },
  {
   "cell_type": "code",
   "execution_count": 33,
   "metadata": {},
   "outputs": [
    {
     "output_type": "execute_result",
     "data": {
      "text/plain": "['kakak', 1.73, 'adik', 1.68, 'ibu', 1.71, 'ayah', 1.89]"
     },
     "metadata": {},
     "execution_count": 33
    }
   ],
   "source": [
    "keluarga"
   ]
  },
  {
   "cell_type": "code",
   "execution_count": 36,
   "metadata": {},
   "outputs": [],
   "source": [
    "keluarga[7] = 1.77"
   ]
  },
  {
   "cell_type": "code",
   "execution_count": 37,
   "metadata": {},
   "outputs": [
    {
     "output_type": "execute_result",
     "data": {
      "text/plain": "['kakak', 1.73, 'adik', 1.68, 'ibu', 1.71, 'ayah', 1.77]"
     },
     "metadata": {},
     "execution_count": 37
    }
   ],
   "source": [
    "keluarga"
   ]
  },
  {
   "cell_type": "code",
   "execution_count": 38,
   "metadata": {},
   "outputs": [],
   "source": [
    "keluarga[0:2] = ['saya', 1.74]"
   ]
  },
  {
   "cell_type": "code",
   "execution_count": 39,
   "metadata": {},
   "outputs": [
    {
     "output_type": "execute_result",
     "data": {
      "text/plain": "['saya', 1.74, 'adik', 1.68, 'ibu', 1.71, 'ayah', 1.77]"
     },
     "metadata": {},
     "execution_count": 39
    }
   ],
   "source": [
    "keluarga"
   ]
  },
  {
   "cell_type": "markdown",
   "metadata": {},
   "source": [
    "## Menambah dan Menghapus Elemen"
   ]
  },
  {
   "cell_type": "code",
   "execution_count": 40,
   "metadata": {},
   "outputs": [],
   "source": [
    "keluarga = ['kakak', 1.73, 'adik', 1.68, 'ibu', 1.71, 'ayah', 1.89]"
   ]
  },
  {
   "cell_type": "code",
   "execution_count": 41,
   "metadata": {},
   "outputs": [
    {
     "output_type": "execute_result",
     "data": {
      "text/plain": "['kakak', 1.73, 'adik', 1.68, 'ibu', 1.71, 'ayah', 1.89]"
     },
     "metadata": {},
     "execution_count": 41
    }
   ],
   "source": [
    "keluarga"
   ]
  },
  {
   "cell_type": "code",
   "execution_count": 42,
   "metadata": {},
   "outputs": [
    {
     "output_type": "execute_result",
     "data": {
      "text/plain": "['kakak', 1.73, 'adik', 1.68, 'ibu', 1.71, 'ayah', 1.89, 'saya', 1.74]"
     },
     "metadata": {},
     "execution_count": 42
    }
   ],
   "source": [
    "keluarga + ['saya', 1.74]"
   ]
  },
  {
   "cell_type": "code",
   "execution_count": 43,
   "metadata": {},
   "outputs": [],
   "source": [
    "keluarga_tambahan = keluarga +['saya', 1.74]"
   ]
  },
  {
   "cell_type": "code",
   "execution_count": 44,
   "metadata": {},
   "outputs": [],
   "source": [
    "del(keluarga[2])"
   ]
  },
  {
   "cell_type": "code",
   "execution_count": 45,
   "metadata": {},
   "outputs": [
    {
     "output_type": "execute_result",
     "data": {
      "text/plain": "['kakak', 1.73, 1.68, 'ibu', 1.71, 'ayah', 1.89]"
     },
     "metadata": {},
     "execution_count": 45
    }
   ],
   "source": [
    "keluarga"
   ]
  },
  {
   "cell_type": "code",
   "execution_count": 46,
   "metadata": {},
   "outputs": [],
   "source": [
    "del(keluarga[2])"
   ]
  },
  {
   "cell_type": "code",
   "execution_count": 47,
   "metadata": {},
   "outputs": [
    {
     "output_type": "execute_result",
     "data": {
      "text/plain": "['kakak', 1.73, 'ibu', 1.71, 'ayah', 1.89]"
     },
     "metadata": {},
     "execution_count": 47
    }
   ],
   "source": [
    "keluarga"
   ]
  },
  {
   "cell_type": "markdown",
   "metadata": {},
   "source": [
    "## Tambahan"
   ]
  },
  {
   "cell_type": "code",
   "execution_count": 51,
   "metadata": {},
   "outputs": [
    {
     "output_type": "execute_result",
     "data": {
      "text/plain": "['a', 'b', 'c']"
     },
     "metadata": {},
     "execution_count": 51
    }
   ],
   "source": [
    "x = ['a', 'b', 'c']\n",
    "y = x"
   ]
  },
  {
   "cell_type": "code",
   "execution_count": 52,
   "metadata": {},
   "outputs": [
    {
     "output_type": "execute_result",
     "data": {
      "text/plain": "['a', 'b', 'c']"
     },
     "metadata": {},
     "execution_count": 52
    }
   ],
   "source": [
    "x"
   ]
  },
  {
   "cell_type": "code",
   "execution_count": 53,
   "metadata": {},
   "outputs": [
    {
     "output_type": "execute_result",
     "data": {
      "text/plain": "['a', 'b', 'c']"
     },
     "metadata": {},
     "execution_count": 53
    }
   ],
   "source": [
    "y"
   ]
  },
  {
   "cell_type": "code",
   "execution_count": 54,
   "metadata": {},
   "outputs": [],
   "source": [
    "y[1] = 'z'"
   ]
  },
  {
   "cell_type": "code",
   "execution_count": 55,
   "metadata": {},
   "outputs": [
    {
     "output_type": "execute_result",
     "data": {
      "text/plain": "['a', 'z', 'c']"
     },
     "metadata": {},
     "execution_count": 55
    }
   ],
   "source": [
    "x"
   ]
  },
  {
   "cell_type": "code",
   "execution_count": 56,
   "metadata": {},
   "outputs": [
    {
     "output_type": "execute_result",
     "data": {
      "text/plain": "['a', 'z', 'c']"
     },
     "metadata": {},
     "execution_count": 56
    }
   ],
   "source": [
    "y"
   ]
  },
  {
   "cell_type": "markdown",
   "metadata": {},
   "source": [
    "## Agar tidak sharing value"
   ]
  },
  {
   "cell_type": "code",
   "execution_count": 57,
   "metadata": {},
   "outputs": [],
   "source": [
    "x = ['a', 'b', 'c']\n",
    "y = list(x)\n",
    "z = x[:]"
   ]
  },
  {
   "cell_type": "code",
   "execution_count": 59,
   "metadata": {},
   "outputs": [],
   "source": [
    "x[1] = 'haha'"
   ]
  },
  {
   "cell_type": "code",
   "execution_count": 60,
   "metadata": {},
   "outputs": [
    {
     "output_type": "execute_result",
     "data": {
      "text/plain": "['a', 'haha', 'c']"
     },
     "metadata": {},
     "execution_count": 60
    }
   ],
   "source": [
    "x"
   ]
  },
  {
   "cell_type": "code",
   "execution_count": 61,
   "metadata": {},
   "outputs": [
    {
     "output_type": "execute_result",
     "data": {
      "text/plain": "['a', 'b', 'c']"
     },
     "metadata": {},
     "execution_count": 61
    }
   ],
   "source": [
    "y"
   ]
  },
  {
   "cell_type": "code",
   "execution_count": 62,
   "metadata": {},
   "outputs": [
    {
     "output_type": "execute_result",
     "data": {
      "text/plain": "['a', 'b', 'c']"
     },
     "metadata": {},
     "execution_count": 62
    }
   ],
   "source": [
    "z"
   ]
  }
 ]
}