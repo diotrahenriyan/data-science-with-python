{
 "nbformat": 4,
 "nbformat_minor": 2,
 "metadata": {
  "language_info": {
   "name": "python",
   "codemirror_mode": {
    "name": "ipython",
    "version": 3
   },
   "version": "3.7.6-final"
  },
  "orig_nbformat": 2,
  "file_extension": ".py",
  "mimetype": "text/x-python",
  "name": "python",
  "npconvert_exporter": "python",
  "pygments_lexer": "ipython3",
  "version": 3,
  "kernelspec": {
   "name": "python37764bitpython3condacd33ffb6eda44dc4b926af55cffeb75c",
   "display_name": "Python 3.7.7 64-bit ('python_3': conda)"
  }
 },
 "cells": [
  {
   "cell_type": "markdown",
   "metadata": {},
   "source": [
    "# Fungsi"
   ]
  },
  {
   "cell_type": "markdown",
   "metadata": {},
   "source": [
    "- Sudah pernah kita gunakan\n",
    "- Contoh: type()\n",
    "- Kumpulan code yang digunakan kembali\n",
    "- Menyelesaikan tugas yang spesifik\n",
    "- Panggil fungsi yang sudah ada daripada harus membuat sendiri dari awal"
   ]
  },
  {
   "cell_type": "code",
   "execution_count": 2,
   "metadata": {},
   "outputs": [],
   "source": [
    "keluarga = [1.73, 1.68, 1.71, 1.89]"
   ]
  },
  {
   "cell_type": "code",
   "execution_count": 3,
   "metadata": {},
   "outputs": [
    {
     "output_type": "execute_result",
     "data": {
      "text/plain": "[1.73, 1.68, 1.71, 1.89]"
     },
     "metadata": {},
     "execution_count": 3
    }
   ],
   "source": [
    "keluarga"
   ]
  },
  {
   "cell_type": "code",
   "execution_count": 4,
   "metadata": {},
   "outputs": [
    {
     "output_type": "execute_result",
     "data": {
      "text/plain": "1.89"
     },
     "metadata": {},
     "execution_count": 4
    }
   ],
   "source": [
    "max(keluarga)"
   ]
  },
  {
   "cell_type": "code",
   "execution_count": 6,
   "metadata": {},
   "outputs": [],
   "source": [
    "paling_tinggi = max(keluarga)"
   ]
  },
  {
   "cell_type": "code",
   "execution_count": 7,
   "metadata": {},
   "outputs": [
    {
     "output_type": "execute_result",
     "data": {
      "text/plain": "1.89"
     },
     "metadata": {},
     "execution_count": 7
    }
   ],
   "source": [
    "paling_tinggi"
   ]
  },
  {
   "cell_type": "code",
   "execution_count": 8,
   "metadata": {},
   "outputs": [
    {
     "output_type": "execute_result",
     "data": {
      "text/plain": "4"
     },
     "metadata": {},
     "execution_count": 8
    }
   ],
   "source": [
    "len(keluarga)"
   ]
  },
  {
   "cell_type": "code",
   "execution_count": 9,
   "metadata": {},
   "outputs": [
    {
     "output_type": "execute_result",
     "data": {
      "text/plain": "1.7"
     },
     "metadata": {},
     "execution_count": 9
    }
   ],
   "source": [
    "round(1.68, 1)"
   ]
  },
  {
   "cell_type": "code",
   "execution_count": 10,
   "metadata": {},
   "outputs": [
    {
     "output_type": "execute_result",
     "data": {
      "text/plain": "2"
     },
     "metadata": {},
     "execution_count": 10
    }
   ],
   "source": [
    "round(1.68)"
   ]
  },
  {
   "cell_type": "code",
   "execution_count": 11,
   "metadata": {},
   "outputs": [
    {
     "output_type": "stream",
     "name": "stdout",
     "text": "Help on built-in function round in module builtins:\n\nround(number, ndigits=None)\n    Round a number to a given precision in decimal digits.\n    \n    The return value is an integer if ndigits is omitted or None.  Otherwise\n    the return value has the same type as the number.  ndigits may be negative.\n\n"
    }
   ],
   "source": [
    "help(round)"
   ]
  },
  {
   "cell_type": "markdown",
   "metadata": {},
   "source": [
    "## Fungsinya apa aja?"
   ]
  },
  {
   "cell_type": "markdown",
   "metadata": {},
   "source": [
    "- Kalau fungsi standar biasanya sudah disediakan misal max, min, sum, dll\n",
    "- Internet adalah teman anda"
   ]
  },
  {
   "cell_type": "markdown",
   "metadata": {},
   "source": [
    "## Fungsi Built-in"
   ]
  },
  {
   "cell_type": "markdown",
   "metadata": {},
   "source": [
    "- Maksimum dari list: max()\n",
    "- Panjang dari list: len()\n",
    "- Mendapatkan index dari list: ?\n",
    "- Me reverse list: ?"
   ]
  },
  {
   "cell_type": "markdown",
   "metadata": {},
   "source": [
    "## Method"
   ]
  },
  {
   "cell_type": "code",
   "execution_count": 27,
   "metadata": {},
   "outputs": [],
   "source": [
    "adik = 'balqis' # Object tipe: str contoh method: capitalize(), replace()\n",
    "\n",
    "tinggi = 1.73 # Object tipe: float contoh method: bit_length(), conjugate()\n",
    "\n",
    "keluarga = [1.73, 1.68, 1.71, 1.89] # Object tipe: list contoh method: index(), count()\n",
    ""
   ]
  },
  {
   "cell_type": "markdown",
   "metadata": {},
   "source": [
    "## List Method"
   ]
  },
  {
   "cell_type": "code",
   "execution_count": 33,
   "metadata": {},
   "outputs": [],
   "source": [
    "keluarga = ['kakak', 1.73, 'adik', 1.68, 'ibu', 1.71, 'ayah', 1.89]"
   ]
  },
  {
   "cell_type": "code",
   "execution_count": 15,
   "metadata": {},
   "outputs": [
    {
     "output_type": "execute_result",
     "data": {
      "text/plain": "2"
     },
     "metadata": {},
     "execution_count": 15
    }
   ],
   "source": [
    "keluarga.index('adik')"
   ]
  },
  {
   "cell_type": "code",
   "execution_count": 16,
   "metadata": {},
   "outputs": [
    {
     "output_type": "execute_result",
     "data": {
      "text/plain": "1"
     },
     "metadata": {},
     "execution_count": 16
    }
   ],
   "source": [
    "keluarga.count(1.73)"
   ]
  },
  {
   "cell_type": "markdown",
   "metadata": {},
   "source": [
    "## Str Method"
   ]
  },
  {
   "cell_type": "code",
   "execution_count": 28,
   "metadata": {},
   "outputs": [
    {
     "output_type": "execute_result",
     "data": {
      "text/plain": "'balqis'"
     },
     "metadata": {},
     "execution_count": 28
    }
   ],
   "source": [
    "adik"
   ]
  },
  {
   "cell_type": "code",
   "execution_count": 29,
   "metadata": {},
   "outputs": [
    {
     "output_type": "execute_result",
     "data": {
      "text/plain": "'Balqis'"
     },
     "metadata": {},
     "execution_count": 29
    }
   ],
   "source": [
    "adik.capitalize()"
   ]
  },
  {
   "cell_type": "code",
   "execution_count": 30,
   "metadata": {},
   "outputs": [
    {
     "output_type": "execute_result",
     "data": {
      "text/plain": "'balqys'"
     },
     "metadata": {},
     "execution_count": 30
    }
   ],
   "source": [
    "adik.replace('i', 'y')"
   ]
  },
  {
   "cell_type": "markdown",
   "metadata": {},
   "source": [
    "- Semua dalam Python merupakan Object\n",
    "- Setiap Object memiliki method yang sesuai dengan objectnya"
   ]
  },
  {
   "cell_type": "code",
   "execution_count": 25,
   "metadata": {},
   "outputs": [],
   "source": [
    "# keluarga.replace('ibu', 'mama')"
   ]
  },
  {
   "cell_type": "code",
   "execution_count": 31,
   "metadata": {},
   "outputs": [
    {
     "output_type": "execute_result",
     "data": {
      "text/plain": "1"
     },
     "metadata": {},
     "execution_count": 31
    }
   ],
   "source": [
    "adik.index('a')"
   ]
  },
  {
   "cell_type": "code",
   "execution_count": 34,
   "metadata": {},
   "outputs": [
    {
     "output_type": "execute_result",
     "data": {
      "text/plain": "4"
     },
     "metadata": {},
     "execution_count": 34
    }
   ],
   "source": [
    "keluarga.index('ibu')"
   ]
  },
  {
   "cell_type": "code",
   "execution_count": 35,
   "metadata": {},
   "outputs": [],
   "source": [
    "keluarga.append('saya')"
   ]
  },
  {
   "cell_type": "code",
   "execution_count": 36,
   "metadata": {},
   "outputs": [
    {
     "output_type": "execute_result",
     "data": {
      "text/plain": "['kakak', 1.73, 'adik', 1.68, 'ibu', 1.71, 'ayah', 1.89, 'saya']"
     },
     "metadata": {},
     "execution_count": 36
    }
   ],
   "source": [
    "keluarga"
   ]
  },
  {
   "cell_type": "code",
   "execution_count": 37,
   "metadata": {},
   "outputs": [],
   "source": [
    "keluarga.append(1.76)"
   ]
  },
  {
   "cell_type": "code",
   "execution_count": 38,
   "metadata": {},
   "outputs": [
    {
     "output_type": "execute_result",
     "data": {
      "text/plain": "['kakak', 1.73, 'adik', 1.68, 'ibu', 1.71, 'ayah', 1.89, 'saya', 1.76]"
     },
     "metadata": {},
     "execution_count": 38
    }
   ],
   "source": [
    "keluarga"
   ]
  },
  {
   "cell_type": "markdown",
   "metadata": {},
   "source": [
    "## Ingat"
   ]
  },
  {
   "cell_type": "markdown",
   "metadata": {},
   "source": [
    "### Fungsi"
   ]
  },
  {
   "cell_type": "code",
   "execution_count": 41,
   "metadata": {},
   "outputs": [
    {
     "output_type": "execute_result",
     "data": {
      "text/plain": "list"
     },
     "metadata": {},
     "execution_count": 41
    }
   ],
   "source": [
    "type(keluarga)"
   ]
  },
  {
   "cell_type": "markdown",
   "metadata": {},
   "source": [
    "### Method: merupakan fungsi pada object"
   ]
  },
  {
   "cell_type": "code",
   "execution_count": 42,
   "metadata": {},
   "outputs": [
    {
     "output_type": "execute_result",
     "data": {
      "text/plain": "4"
     },
     "metadata": {},
     "execution_count": 42
    }
   ],
   "source": [
    "keluarga.index('ibu')"
   ]
  },
  {
   "cell_type": "markdown",
   "metadata": {},
   "source": [
    "## Package\n",
    "\n",
    "- Fungsi dan Method sangat <i>powerfuul</i>\n",
    "- Semua kode dalam satu Python?\n",
    "\n",
    "Apakah Package / Paket itu?\n",
    "- Sebuah directory Script Python\n",
    "- Setiap Script = Modul\n",
    "- Mempunyai fungsi, method, tipe yang spesifik\n",
    "- Ribuan paket tersedia tergantung keperluan\n",
    "- Contoh: NumPy, Matplotlib, Scikit-learn\n",
    "\n",
    "## Install Package\n",
    "\n",
    "- Jika kamu menggunakan anaconda maka semua paket untuk keperluan Data Science sudah tersedia\n",
    "- Jika kamu ingin mencoba install Python dari awal maka ada dua kemungkinan\n",
    "- 1. pip belum tersedia, 2. pip sudah tersedia\n",
    "- Jika belum tersedia download di http://pip.readthedocs.org/en/stable/installing/\n",
    "- Download get-pip.py\n",
    "- Buka Terminal / CMD\n",
    "- python3 get-pip.py (Linux/MacOS) python get-pip.py (Windows)\n",
    "- Untuk menginstall NumPy\n",
    "- pip3 install numpy (Linux/MacOS) pip install numpy (Windows)\n"
   ]
  },
  {
   "cell_type": "markdown",
   "metadata": {},
   "source": [
    "## Import Package"
   ]
  },
  {
   "cell_type": "code",
   "execution_count": 46,
   "metadata": {},
   "outputs": [],
   "source": [
    "import numpy"
   ]
  },
  {
   "cell_type": "code",
   "execution_count": 45,
   "metadata": {},
   "outputs": [],
   "source": [
    "# array([1, 2, 3]) --> error"
   ]
  },
  {
   "cell_type": "code",
   "execution_count": 48,
   "metadata": {},
   "outputs": [
    {
     "output_type": "execute_result",
     "data": {
      "text/plain": "array([1, 2, 3])"
     },
     "metadata": {},
     "execution_count": 48
    }
   ],
   "source": [
    "numpy.array([1, 2, 3])"
   ]
  },
  {
   "cell_type": "code",
   "execution_count": 49,
   "metadata": {},
   "outputs": [],
   "source": [
    "import numpy as np "
   ]
  },
  {
   "cell_type": "code",
   "execution_count": 50,
   "metadata": {},
   "outputs": [
    {
     "output_type": "execute_result",
     "data": {
      "text/plain": "array([1, 2, 3])"
     },
     "metadata": {},
     "execution_count": 50
    }
   ],
   "source": [
    "np.array([1, 2, 3])"
   ]
  },
  {
   "cell_type": "code",
   "execution_count": 51,
   "metadata": {},
   "outputs": [],
   "source": [
    "from numpy import array"
   ]
  },
  {
   "cell_type": "code",
   "execution_count": 52,
   "metadata": {},
   "outputs": [
    {
     "output_type": "execute_result",
     "data": {
      "text/plain": "array([1, 2, 3])"
     },
     "metadata": {},
     "execution_count": 52
    }
   ],
   "source": [
    "array([1, 2, 3])"
   ]
  },
  {
   "cell_type": "markdown",
   "metadata": {},
   "source": [
    "### From numpy import array"
   ]
  },
  {
   "cell_type": "code",
   "execution_count": 57,
   "metadata": {},
   "outputs": [
    {
     "output_type": "stream",
     "name": "stdout",
     "text": "10 elemen pada keluarga_tambahan\n['kakak' '1.73' 'adik' '1.68' 'ibu' '1.71' 'ayah' '1.89' 'saya' '1.76']\n"
    }
   ],
   "source": [
    "from numpy import array\n",
    "\n",
    "keluarga = ['kakak', 1.73, 'adik', 1.68, 'ibu', 1.71, 'ayah', 1.89]\n",
    "\n",
    "keluarga_tambahan = keluarga + ['saya', 1.76]\n",
    "\n",
    "print(str(len(keluarga_tambahan)) + ' elemen pada keluarga_tambahan')\n",
    "\n",
    "np_keluarga = array(keluarga_tambahan) # Menggunakan NumPy, tapi tidak begitu jelas\n",
    "\n",
    "print(np_keluarga)"
   ]
  },
  {
   "cell_type": "markdown",
   "metadata": {},
   "source": [
    "### Import numpy as np"
   ]
  },
  {
   "cell_type": "code",
   "execution_count": 60,
   "metadata": {},
   "outputs": [
    {
     "output_type": "stream",
     "name": "stdout",
     "text": "10 elemen pada keluarga_tambahan\n['kakak' '1.73' 'adik' '1.68' 'ibu' '1.71' 'ayah' '1.89' 'saya' '1.76']\n"
    }
   ],
   "source": [
    "import numpy as np\n",
    "\n",
    "keluarga = ['kakak', 1.73, 'adik', 1.68, 'ibu', 1.71, 'ayah', 1.89]\n",
    "\n",
    "keluarga_tambahan = keluarga + ['saya', 1.76]\n",
    "\n",
    "print(str(len(keluarga_tambahan)) + ' elemen pada keluarga_tambahan')\n",
    "\n",
    "np_keluarga = np.array(keluarga_tambahan) # Menggunakan NumPy, tapi tidak begitu jelas\n",
    "\n",
    "print(np_keluarga)"
   ]
  }
 ]
}